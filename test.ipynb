{
 "cells": [
  {
   "cell_type": "code",
   "execution_count": null,
   "id": "b984470d-3e15-4173-b6cb-e46d83652e59",
   "metadata": {
    "pycharm": {
     "name": "#%%\n"
    }
   },
   "outputs": [],
   "source": [
    "import plotly.offline as pyo\n",
    "pyo.init_notebook_mode()\n",
    "pyo.iplot(fig, filename = 'basic-line')"
   ]
  },
  {
   "cell_type": "code",
   "execution_count": null,
   "id": "3ed5a72b-ddf1-482e-a5c1-fd73791b37a7",
   "metadata": {
    "pycharm": {
     "name": "#%%\n"
    }
   },
   "outputs": [],
   "source": [
    "import plotly.express as px\n",
    "import pandas as pd\n",
    "import plotly.graph_objects as go\n",
    "from plotly.subplots import make_subplots"
   ]
  },
  {
   "cell_type": "code",
   "execution_count": null,
   "id": "fbe600e3-0cb2-4b14-b8a0-ec94acee50fa",
   "metadata": {
    "pycharm": {
     "name": "#%%\n"
    }
   },
   "outputs": [],
   "source": [
    "df = pd.read_csv('sotuvlar.csv')"
   ]
  },
  {
   "cell_type": "code",
   "execution_count": null,
   "id": "8766b2bd-3d1c-4cb5-83fb-b8294af14c02",
   "metadata": {
    "pycharm": {
     "name": "#%%\n"
    }
   },
   "outputs": [],
   "source": [
    "def range_date_time(time):\n",
    "    if time.hour < 12:\n",
    "        return 'ertalab'\n",
    "    elif time.hour < 18:\n",
    "        return 'kunduzi'\n",
    "    else:\n",
    "        return 'kechki payt'"
   ]
  },
  {
   "cell_type": "code",
   "execution_count": null,
   "id": "78e21d15-4783-452e-9d2a-7182a94f0136",
   "metadata": {
    "pycharm": {
     "name": "#%%\n"
    }
   },
   "outputs": [],
   "source": [
    "df.Date = pd.to_datetime(df['Date'])\n",
    "df = df.reset_index(drop=True).set_index('Date')\n",
    "df.Time = pd.to_datetime(df.Time)\n",
    "df['Time'] = df['Time'].apply(range_date_time)"
   ]
  },
  {
   "cell_type": "code",
   "execution_count": null,
   "id": "3b4bd7b4-f947-4863-b8c7-e0e645f77bcb",
   "metadata": {
    "pycharm": {
     "name": "#%%\n"
    }
   },
   "outputs": [],
   "source": [
    "df_month_1 = df[df.index.month==1]\n",
    "df_month_2 = df[df.index.month==2]\n",
    "df_month_3 = df[df.index.month==3]\n",
    "df['Week'] = 'week'\n",
    "re_week(df)"
   ]
  },
  {
   "cell_type": "code",
   "execution_count": null,
   "id": "b2a55f6a-62dc-4658-b3e9-0c619b858313",
   "metadata": {
    "pycharm": {
     "name": "#%%\n"
    }
   },
   "outputs": [],
   "source": []
  },
  {
   "cell_type": "code",
   "execution_count": null,
   "id": "58ce99ba-30ef-4d24-861d-f278152a25af",
   "metadata": {
    "pycharm": {
     "name": "#%%\n"
    }
   },
   "outputs": [],
   "source": [
    "fig = make_subplots(rows=1, cols=3, specs=[[{'type':'domain'}, {'type':'domain'},{'type':'domain'}]],\n",
    "                    subplot_titles=['Yanvar', 'Fevral', 'Mart'])\n",
    "fig.add_trace(go.Pie(labels=df_total_time_1.index, values=df_total_time_1.Total, scalegroup='one',\n",
    "                     name=\"Time\"), row=1, col=1)\n",
    "fig.add_trace(go.Pie(labels=df_total_time_2.index, values=df_total_time_2.Total, scalegroup='one',\n",
    "                     name=\"Time\"), row=1, col=2)\n",
    "fig.add_trace(go.Pie(labels=df_total_time_3.index, values=df_total_time_3.Total, scalegroup='one',\n",
    "                     name=\"Time\"), row=1, col=3)\n",
    "\n",
    "fig.update_layout(height=600, width=1600, title_text='3 oy davomida xaridorlar tovarlarni sotilishi')\n",
    "fig.show()"
   ]
  },
  {
   "cell_type": "code",
   "execution_count": null,
   "id": "82b549a2-b730-4005-b148-138ed0cc91a4",
   "metadata": {
    "pycharm": {
     "name": "#%%\n"
    }
   },
   "outputs": [],
   "source": []
  }
 ],
 "metadata": {
  "kernelspec": {
   "display_name": "Python 3 (ipykernel)",
   "language": "python",
   "name": "python3"
  },
  "language_info": {
   "codemirror_mode": {
    "name": "ipython",
    "version": 3
   },
   "file_extension": ".py",
   "mimetype": "text/x-python",
   "name": "python",
   "nbconvert_exporter": "python",
   "pygments_lexer": "ipython3",
   "version": "3.10.4"
  }
 },
 "nbformat": 4,
 "nbformat_minor": 5
}